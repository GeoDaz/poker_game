{
 "cells": [
  {
   "cell_type": "markdown",
   "metadata": {},
   "source": [
    "# Faîtes vos jeux!"
   ]
  },
  {
   "cell_type": "markdown",
   "metadata": {},
   "source": [
    "Dans cette série de notebook, nous allons coder des jeux de casino en python."
   ]
  },
  {
   "cell_type": "markdown",
   "metadata": {},
   "source": [
    "### 1ère Partie"
   ]
  },
  {
   "cell_type": "markdown",
   "metadata": {},
   "source": [
    "### Poker éléctronique\n",
    "\n",
    "##### Règles du jeu:\n",
    "\n",
    "Le poker éléctronique est un jeu de type machine à sous,\n",
    "le joueur choisi sa mise, appui sur le bouton \"jouer\" et la machine lui propose un jeu de 5 cartes tirés d'un jeu de 52 cartes.\n",
    "Le jouer peut alors choisir des cartes à garder, il peut choisir d'en garder 0, 1, 2, 3 ou 4, puis rappuie sur le bouton. Selon le choix du joueur, la machine tire de nouveaux le nombre de carte qu'il faut pour constituer le tirage final. \n",
    "Enfin le joueur récupère ses gains qui correspondent au montant de sa mise multiplié par le gain correspondant à la combinaison obtenue sur le tirage final. Si il n'a aucune combinaison il perd sa mise.\n",
    "\n",
    "##### Combinaison et gains:\n",
    "\n",
    "-Paire : 2 cartes identiques => 1 fois la mise\n",
    "\n",
    "-Double Paire : deux fois 2 cartes identiques => 2 fois la mise\n",
    "\n",
    "-Brelan : 3 cartes identiques => 3 fois la mise\n",
    "\n",
    "-Quinte : 5 cartes consécutives => 4 fois la mise\n",
    "\n",
    "-Flush : 5 cartes de la même couleur => 6 fois la mise\n",
    "\n",
    "-Full : 1 paire + 1 brelan => 9 fois la mise\n",
    "\n",
    "-Carré : 4 cartes identiques => 25 fois la mise\n",
    "\n",
    "-Quinte Flush : 1 quinte de la même couleur => 50 fois la mise\n",
    "\n",
    "-Quinte Flush Royale : 1 quinte flush avec as, roi, dame, valet, 10 => 250 fois la mise."
   ]
  },
  {
   "cell_type": "code",
   "execution_count": 27,
   "metadata": {},
   "outputs": [],
   "source": [
    "import pandas as pd\n",
    "import random"
   ]
  },
  {
   "cell_type": "markdown",
   "metadata": {},
   "source": [
    "Le deck represente le jeu de carte : \n",
    "\n",
    "chaque carte est représentée par :\n",
    "    \n",
    "- un chiffre ou un lettre majuscule qui représente la valeur de la carte ( J = Valet, Q = Dame, K = Roi, A = As )\n",
    "- une lettre minuscule qui représente la couleur ( h = Hearts = Coeur, d = Diamonds = Carreau, c = Clubs = Trèfle, s = Spades = Pique )"
   ]
  },
  {
   "cell_type": "code",
   "execution_count": 63,
   "metadata": {},
   "outputs": [],
   "source": [
    "deck = [\n",
    "    '2-h','3-h','4-h','5-h','6-h','7-h','8-h','9-h','10-h','J-h','Q-h','K-h','A-h',\n",
    "    '2-d','3-d','4-d','5-d','6-d','7-d','8-d','9-d','10-d','J-d','Q-d','K-d','A-d',\n",
    "    '2-c','3-c','4-c','5-c','6-c','7-c','8-c','9-c','10-c','J-c','Q-c','K-c','A-c',\n",
    "    '2-s','3-s','4-s','5-s','6-s','7-s','8-s','9-s','10-s','J-s','Q-s','K-s','A-s'\n",
    "]"
   ]
  },
  {
   "cell_type": "code",
   "execution_count": 64,
   "metadata": {},
   "outputs": [
    {
     "output_type": "execute_result",
     "data": {
      "text/plain": [
       "52"
      ]
     },
     "metadata": {},
     "execution_count": 64
    }
   ],
   "source": [
    "len(deck)"
   ]
  },
  {
   "cell_type": "markdown",
   "metadata": {},
   "source": [
    "Créer une fonction, nommée premier_tirage, permettant de faire un tirage aléatoire sans remise dans le deck.\n",
    "Les cartes tirées devront être retirées du deck pour le deuxième tirage.\n",
    "La fonction devra retourner le tirage, et le nouveau deck. "
   ]
  },
  {
   "cell_type": "code",
   "execution_count": 37,
   "metadata": {},
   "outputs": [
    {
     "output_type": "stream",
     "name": "stdout",
     "text": [
      "hand ['4-s', 'Q-d', '3-d', '7-s', 'K-d']\ndeck ['2-h', '3-h', '5-h', '6-h', '7-h', '9-h', '10-h', 'J-h', 'Q-h', 'A-h', '2-d', '4-d', '5-d', '6-d', '7-d', '8-d', '9-d', '10-d', '2-c', '3-c', '5-c', '6-c', '7-c', '8-c', '9-c', 'J-c', 'K-c', 'A-c', '2-s', '6-s', '8-s', '10-s', 'J-s', 'K-s', 'A-s']\n"
     ]
    }
   ],
   "source": [
    "def first_draw(deck :list):\n",
    "    return multiple_draw(5, [], deck)\n",
    "\n",
    "def multiple_draw(nb :int, hand :list, deck :list):\n",
    "    for i in range(nb):\n",
    "        card, deck = draw(deck)\n",
    "        hand.append(card)\n",
    "    return hand, deck\n",
    "\n",
    "def draw(deck :list):\n",
    "    card = random.choice(deck)\n",
    "    deck.remove(card)\n",
    "    return card, deck\n",
    "\n",
    "hand, deck = first_draw(deck)\n",
    "print('hand', hand)\n",
    "print('deck', deck)"
   ]
  },
  {
   "cell_type": "markdown",
   "metadata": {},
   "source": [
    "Créer une fonction, nommée choix_carte, qui prend un tirage en entrée, et permet au joueur de choisir quelle carte il garde ou non pour le deuxième tirage. La fonction devra retourner le jeu avec les carte que le joueur aura garder."
   ]
  },
  {
   "cell_type": "code",
   "execution_count": 53,
   "metadata": {},
   "outputs": [
    {
     "output_type": "stream",
     "name": "stdout",
     "text": [
      "[]\n"
     ]
    }
   ],
   "source": [
    "def card_choice(hand :list):\n",
    "    next_hand = []\n",
    "    for card in hand:\n",
    "        print(card)\n",
    "        while True:\n",
    "            response = input(f'Conserver la carte : {card} ? Oui ou Non.').lower()\n",
    "            if response == 'non': # Cannot remove from hand break for index\n",
    "                break\n",
    "            if response == 'oui':\n",
    "                next_hand.append(card)\n",
    "                break\n",
    "    return next_hand\n",
    "\n",
    "hand = card_choice(hand)\n",
    "print(hand)\n"
   ]
  },
  {
   "cell_type": "markdown",
   "metadata": {},
   "source": [
    "Créer un fonction, nommée deuxieme_tirage, qui permet, à partir du jeu obtenu avec la fonction choix_carte et le deck obtenu avec la fonction premier tirage, de constituer le tirage final du joueur. La fonction devra retourner le tirage final."
   ]
  },
  {
   "cell_type": "code",
   "execution_count": 32,
   "metadata": {},
   "outputs": [
    {
     "output_type": "stream",
     "name": "stdout",
     "text": [
      "Tirage final ['5-s', 'K-h', '8-h', 'J-d', '3-s']\n"
     ]
    }
   ],
   "source": [
    "def second_draw(hand :list, deck :list):\n",
    "    return multiple_draw(5 - len(hand), hand, deck)\n",
    "    \n",
    "hand, deck = second_draw(hand, deck)\n",
    "print('Tirage final', hand)"
   ]
  },
  {
   "cell_type": "markdown",
   "metadata": {},
   "source": [
    "Grâce aux fonctions créées précédemment, faire un fonction nommée machine, qui fait le premier tirage, l'affiche, propose au joueur les cartes afin de choisir celles à garder, puis fait le deuxième tirage et l'affiche et le retourne."
   ]
  },
  {
   "cell_type": "code",
   "execution_count": 49,
   "metadata": {},
   "outputs": [
    {
     "output_type": "stream",
     "name": "stdout",
     "text": [
      "Premier tirage :  ['6-h', '2-c', '8-s', 'K-c', 'A-c']\n",
      "6-h\n",
      "2-c\n",
      "8-s\n",
      "K-c\n",
      "A-c\n",
      "Tirage final :  ['K-c', 'A-c', 'Q-h', '3-c', '10-s']\n"
     ]
    },
    {
     "output_type": "execute_result",
     "data": {
      "text/plain": [
       "['K-c', 'A-c', 'Q-h', '3-c', '10-s']"
      ]
     },
     "metadata": {},
     "execution_count": 49
    }
   ],
   "source": [
    "def machine(deck :list):\n",
    "    hand, deck = first_draw(deck)\n",
    "    print('Premier tirage : ', hand)\n",
    "    hand = card_choice(hand)\n",
    "    hand, deck = second_draw(hand, deck)\n",
    "    print('Tirage final : ', hand)\n",
    "    return hand\n",
    "\n",
    "machine(deck)\n"
   ]
  },
  {
   "cell_type": "markdown",
   "metadata": {},
   "source": [
    "Trouver un moyen de tester un tirage pour voir si il correspond à une des combinaisons gagnantes."
   ]
  },
  {
   "cell_type": "code",
   "execution_count": 59,
   "metadata": {},
   "outputs": [
    {
     "output_type": "stream",
     "name": "stdout",
     "text": [
      "Premier tirage :  ['J-c', '5-d', '2-h', '3-h', 'A-h']\n",
      "J-c\n",
      "5-d\n",
      "2-h\n",
      "3-h\n",
      "A-h\n",
      "Tirage final :  ['2-h', '3-h', 'A-h', '7-c', '3-s']\n",
      "Vous repartez avec 0 fois votre mise\n"
     ]
    }
   ],
   "source": [
    "sequence = ['2','3','4','5','6','7','8','9','10','J','Q','K','A']\n",
    "\n",
    "def get_card_nb(card :str):\n",
    "    return card.split('-')[0]\n",
    "\n",
    "def get_card_color(card :str):\n",
    "    return card.split('-')[1]\n",
    "\n",
    "def is_quinte_royal(cards :list):\n",
    "   return cards == ['10','J','Q','K','A']\n",
    "\n",
    "def is_quinte(cards :list):\n",
    "    for i, card in enumerate(cards):\n",
    "        card_nb = get_card_nb(card)\n",
    "        next_card_nb = get_card_nb(cards[i + 1])\n",
    "        if(card_nb == 'A' and next_card_nb == '2'): \n",
    "            break\n",
    "        if(next_card_nb != sequence[\n",
    "            sequence.index(card_nb + 1)\n",
    "        ]): \n",
    "            return False\n",
    "    return True\n",
    "\n",
    "def is_flush(cards :list):\n",
    "    color = get_card_color(cards[0])\n",
    "    for card in cards:\n",
    "        if(get_card_color(card) != color): \n",
    "            return False\n",
    "    return True\n",
    "\n",
    "def count_cards_by_nb(hand :list):\n",
    "    cards_by_nb = {}\n",
    "    card_nb = get_card_nb(card)\n",
    "    for card in cards:\n",
    "        if card_nb not in cards_by_nb:\n",
    "            cards_by_nb[card_nb] = 0\n",
    "        cards_by_nb[card_nb] += 1\n",
    "    return cards_by_nb\n",
    "\n",
    "def get_coeff(hand :list, ):\n",
    "    if(is_quinte_royal(hand) and is_flush(hand)):\n",
    "        coeff = 250\n",
    "    elif (is_quinte(hand)):\n",
    "        if(is_flush(hand)):\n",
    "            coeff = 50\n",
    "        else:\n",
    "            coeff = 4\n",
    "    elif (is_flush(hand)):\n",
    "        coeff = 6\n",
    "    else:\n",
    "        cards_by_nb = count_cards_by_nb(hand)\n",
    "        if(cards_by_nb.count(4)):\n",
    "            coeff = 25\n",
    "        elif(cards_by_nb.count(3)):\n",
    "            if(cards_by_nb.count(2)):\n",
    "                coeff = 9\n",
    "            else:\n",
    "                coeff = 3\n",
    "        elif(cards_by_nb.count(2) == 2):\n",
    "            coeff = 2\n",
    "        elif(cards_by_nb.count(2)):\n",
    "            coeff = 1\n",
    "        coeff = 0\n",
    "    return coeff\n",
    "\n",
    "\n",
    "hand = machine(deck)\n",
    "hand.sort(\n",
    "    key=lambda card: sequence.index(get_card_nb(card))\n",
    ")\n",
    "print(f'Vous repartez avec {get_coeff(hand)} fois votre mise')\n"
   ]
  },
  {
   "cell_type": "markdown",
   "metadata": {},
   "source": [
    "Créer une fonction permettant de calculer les gains et d'afficher le résultat au joueur."
   ]
  },
  {
   "cell_type": "code",
   "execution_count": null,
   "metadata": {},
   "outputs": [],
   "source": []
  },
  {
   "cell_type": "markdown",
   "metadata": {},
   "source": [
    "Créer une fonction, nommée partie, qui prend en entrée une mise et une bankroll (total de l'argent disponible pour jouer), perment de faire le tirage, et calcule la nouvelle bankroll en fonction des gains. La fonction devra retourner le resultat de la partie et la nouvelle bankroll."
   ]
  },
  {
   "cell_type": "code",
   "execution_count": null,
   "metadata": {},
   "outputs": [],
   "source": []
  },
  {
   "cell_type": "markdown",
   "metadata": {},
   "source": [
    "Créer une fonction, nommée video_poker, qui permet au joueur \"d'inserer de l'argent\" (bankroll), de choisir la mise puis de jouer jusqu'a avoir tout perdu (ou pas si il a de la chance!)"
   ]
  },
  {
   "cell_type": "code",
   "execution_count": null,
   "metadata": {},
   "outputs": [],
   "source": []
  },
  {
   "cell_type": "markdown",
   "metadata": {},
   "source": [
    "Reprenez le notebook en scripts, et executez votre programme dans votre terminal."
   ]
  },
  {
   "cell_type": "code",
   "execution_count": 6,
   "metadata": {},
   "outputs": [
    {
     "output_type": "error",
     "ename": "IndexError",
     "evalue": "list index out of range",
     "traceback": [
      "\u001b[1;31m---------------------------------------------------------------------------\u001b[0m",
      "\u001b[1;31mIndexError\u001b[0m                                Traceback (most recent call last)",
      "\u001b[1;32m<ipython-input-6-461749b6e953>\u001b[0m in \u001b[0;36m<module>\u001b[1;34m\u001b[0m\n\u001b[0;32m     19\u001b[0m     \u001b[1;32mreturn\u001b[0m \u001b[1;32mTrue\u001b[0m\u001b[1;33m\u001b[0m\u001b[1;33m\u001b[0m\u001b[0m\n\u001b[0;32m     20\u001b[0m \u001b[1;33m\u001b[0m\u001b[0m\n\u001b[1;32m---> 21\u001b[1;33m \u001b[0mis_quinte\u001b[0m\u001b[1;33m(\u001b[0m\u001b[1;33m[\u001b[0m\u001b[1;34m'2-d'\u001b[0m\u001b[1;33m,\u001b[0m\u001b[1;34m'3-c'\u001b[0m\u001b[1;33m,\u001b[0m\u001b[1;34m'4-g'\u001b[0m\u001b[1;33m,\u001b[0m\u001b[1;34m'5-z'\u001b[0m\u001b[1;33m,\u001b[0m\u001b[1;34m'6-t'\u001b[0m\u001b[1;33m]\u001b[0m\u001b[1;33m)\u001b[0m\u001b[1;33m\u001b[0m\u001b[1;33m\u001b[0m\u001b[0m\n\u001b[0m",
      "\u001b[1;32m<ipython-input-6-461749b6e953>\u001b[0m in \u001b[0;36mis_quinte\u001b[1;34m(cards)\u001b[0m\n\u001b[0;32m     10\u001b[0m     \u001b[1;32mfor\u001b[0m \u001b[0mi\u001b[0m\u001b[1;33m,\u001b[0m \u001b[0mcard\u001b[0m \u001b[1;32min\u001b[0m \u001b[0menumerate\u001b[0m\u001b[1;33m(\u001b[0m\u001b[0mcards\u001b[0m\u001b[1;33m)\u001b[0m\u001b[1;33m:\u001b[0m\u001b[1;33m\u001b[0m\u001b[1;33m\u001b[0m\u001b[0m\n\u001b[0;32m     11\u001b[0m         \u001b[0mcard_nb\u001b[0m \u001b[1;33m=\u001b[0m \u001b[0mget_card_nb\u001b[0m\u001b[1;33m(\u001b[0m\u001b[0mcard\u001b[0m\u001b[1;33m)\u001b[0m\u001b[1;33m\u001b[0m\u001b[1;33m\u001b[0m\u001b[0m\n\u001b[1;32m---> 12\u001b[1;33m         \u001b[0mnext_card_nb\u001b[0m \u001b[1;33m=\u001b[0m \u001b[0mget_card_nb\u001b[0m\u001b[1;33m(\u001b[0m\u001b[0mcards\u001b[0m\u001b[1;33m[\u001b[0m\u001b[0mi\u001b[0m \u001b[1;33m+\u001b[0m \u001b[1;36m1\u001b[0m\u001b[1;33m]\u001b[0m\u001b[1;33m)\u001b[0m\u001b[1;33m\u001b[0m\u001b[1;33m\u001b[0m\u001b[0m\n\u001b[0m\u001b[0;32m     13\u001b[0m         \u001b[1;32mif\u001b[0m\u001b[1;33m(\u001b[0m\u001b[0mcard_nb\u001b[0m \u001b[1;33m==\u001b[0m \u001b[1;34m'A'\u001b[0m \u001b[1;32mand\u001b[0m \u001b[0mnext_card_nb\u001b[0m \u001b[1;33m==\u001b[0m \u001b[1;34m'2'\u001b[0m\u001b[1;33m)\u001b[0m\u001b[1;33m:\u001b[0m\u001b[1;33m\u001b[0m\u001b[1;33m\u001b[0m\u001b[0m\n\u001b[0;32m     14\u001b[0m             \u001b[1;32mbreak\u001b[0m\u001b[1;33m\u001b[0m\u001b[1;33m\u001b[0m\u001b[0m\n",
      "\u001b[1;31mIndexError\u001b[0m: list index out of range"
     ]
    }
   ],
   "source": [
    "sequence = ['2', '3', '4', '5', '6', '7', '8', '9', '10', 'J', 'Q', 'K', 'A']\n",
    "\n",
    "def get_card_nb(card: str):\n",
    "    return card.split('-')[0]\n",
    "\n",
    "def get_card_color(card: str):\n",
    "    return card.split('-')[1]\n",
    "\n",
    "def is_quinte(cards: list):\n",
    "    for i, card in enumerate(cards[:-1]):\n",
    "        card_nb = get_card_nb(card)\n",
    "        next_card_nb = get_card_nb(cards[i + 1])\n",
    "        if(card_nb == 'A' and next_card_nb == '2'):\n",
    "            break\n",
    "        if(next_card_nb != sequence[\n",
    "            sequence.index(card_nb) + 1\n",
    "        ]):\n",
    "            return False\n",
    "    return True\n",
    "\n",
    "is_quinte(['2-d','3-c','5-g','5-z','6-t'])"
   ]
  },
  {
   "cell_type": "code",
   "execution_count": null,
   "metadata": {},
   "outputs": [],
   "source": []
  }
 ],
 "metadata": {
  "kernelspec": {
   "name": "Python 3.9.0 64-bit",
   "display_name": "Python 3.9.0 64-bit",
   "metadata": {
    "interpreter": {
     "hash": "9880701aa25f573f7b68cc178e3ff1cd03daee726c4d2f6eb7ec9fc750c71af6"
    }
   }
  },
  "language_info": {
   "codemirror_mode": {
    "name": "ipython",
    "version": 3
   },
   "file_extension": ".py",
   "mimetype": "text/x-python",
   "name": "python",
   "nbconvert_exporter": "python",
   "pygments_lexer": "ipython3",
   "version": "3.9.0-final"
  }
 },
 "nbformat": 4,
 "nbformat_minor": 4
}